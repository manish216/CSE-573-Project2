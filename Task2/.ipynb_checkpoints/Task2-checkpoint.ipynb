{
 "cells": [
  {
   "cell_type": "code",
   "execution_count": 2,
   "metadata": {},
   "outputs": [],
   "source": [
    "import numpy as np\n",
    "import cv2\n",
    "import random\n",
    "from matplotlib import pyplot as plt\n",
    "UBIT ='manishre'\n",
    "np.random.seed(sum([ord(c) for c in UBIT]))"
   ]
  },
  {
   "cell_type": "code",
   "execution_count": 3,
   "metadata": {},
   "outputs": [],
   "source": [
    "def epipolarLines(left_image,right_image,lines,src_pts,des_pts):\n",
    "    r,c = left_image.shape[:2]\n",
    "    \n",
    "    for r,pt1,pt2 in zip(lines,src_pts,des_pts):\n",
    "        color = tuple(np.random.randint(0,255,3).tolist()) # picking random color for each line \n",
    "        x0,y0 = map(int, [0, -r[2]/r[1] ]) # \n",
    "        x1,y1 = map(int, [c, -(r[2]+r[0]*c)/r[1] ])\n",
    "        left_image = cv2.line(left_image, (x0,y0), (x1,y1), color,1)\n",
    "        left_image = cv2.circle(left_image,tuple(pt1),5,color,-1)\n",
    "        right_image = cv2.circle(right_image,tuple(pt2),5,color,-1)\n",
    "\n",
    "    return left_image,right_image"
   ]
  },
  {
   "cell_type": "code",
   "execution_count": 4,
   "metadata": {},
   "outputs": [],
   "source": [
    "image1 = cv2.imread('tsucuba_left.png') \n",
    "image2 = cv2.imread('tsucuba_right.png')\n",
    "image3 = cv2.imread('tsucuba_left.png',0)\n",
    "image4 =cv2. imread('tsucuba_right.png',0)"
   ]
  },
  {
   "cell_type": "code",
   "execution_count": 6,
   "metadata": {},
   "outputs": [
    {
     "name": "stdout",
     "output_type": "stream",
     "text": [
      "===FUNDAMENTAL MATRIX===\n",
      "[[-2.12607354e-06 -8.10713687e-05  7.47530309e-02]\n",
      " [ 4.60726414e-05  3.79326900e-05  1.32728554e+00]\n",
      " [-7.52042326e-02 -1.32608913e+00  1.00000000e+00]]\n",
      "266\n",
      "key [41, 23, 63, 58, 52, 56, 99, 81, 52, 21]\n"
     ]
    }
   ],
   "source": [
    "sift = cv2.xfeatures2d.SIFT_create()\n",
    "\n",
    "# find the keypoints and descriptors with SIFT\n",
    "detected_points1, descriptors1 = sift.detectAndCompute(image1.copy(),None)\n",
    "detected_points2, descriptors2 = sift.detectAndCompute(image2.copy(),None)\n",
    "detect_image1 =cv2.drawKeypoints(image1,detected_points1,None,flags=cv2.DRAW_MATCHES_FLAGS_DRAW_RICH_KEYPOINTS)\n",
    "detect_image2 = cv2.drawKeypoints(image2,detected_points2,None,flags=cv2.DRAW_MATCHES_FLAGS_DRAW_RICH_KEYPOINTS)\n",
    "# FLANN parameters\n",
    "FLANN_INDEX_KDTREE = 0\n",
    "index_params = dict(algorithm = FLANN_INDEX_KDTREE, trees = 5)\n",
    "search_params = dict(checks=50)\n",
    "\n",
    "flann = cv2.FlannBasedMatcher(index_params,search_params)\n",
    "matches = flann.knnMatch(descriptors1,descriptors2,k=2)\n",
    "\n",
    "good = [] \n",
    "good_pts =[]\n",
    "pts1 = []\n",
    "pts2 = []\n",
    "\n",
    "# ratio test as per Lowe's paper\n",
    "for i,(m,n) in enumerate(matches):\n",
    "    if m.distance < 0.75*n.distance:\n",
    "        good.append(m)\n",
    "        good_pts.append([m])\n",
    "        pts2.append(detected_points2[m.trainIdx].pt)\n",
    "        pts1.append(detected_points1[m.queryIdx].pt)\n",
    "\n",
    "\n",
    "\n",
    "featureMacthing = cv2.drawMatchesKnn(image1.copy(),detected_points1,image2.copy(),detected_points2,good_pts,None,flags=2)\n",
    "#======================================PART2=====================================================================\n",
    "\n",
    "pts1 = np.int32(pts1)\n",
    "pts2 = np.int32(pts2)\n",
    "\n",
    "fundamentalMatrix, mask = cv2.findFundamentalMat(pts1,pts2,cv2.RANSAC)\n",
    "print('===FUNDAMENTAL MATRIX===')\n",
    "print(fundamentalMatrix)\n",
    "# We select only inlier points\n",
    "pts1 = pts1[mask.ravel()==1]\n",
    "pts2 = pts2[mask.ravel()==1]\n",
    "print(len(pts1))\n",
    "key=[]\n",
    "for i in range(10):\n",
    "     key.append(random.randint(1,100))\n",
    "print('key',key)\n",
    "pts3 =[]\n",
    "pts4 =[]\n",
    "for i in key:\n",
    "    pts3.append(pts1[i])\n",
    "    pts4.append(pts2[i])\n",
    "    \n",
    "pts3 =np.asarray(pts3)\n",
    "pts4 =np.asarray(pts4)\n",
    "\n",
    "#============================================Part3=========================================================================\n",
    "inliners_left = cv2.computeCorrespondEpilines(pts3.reshape(-1,1,2), 2,fundamentalMatrix)\n",
    "inliners_left = inliners_left.reshape(-1,3)\n",
    "image_l2r,image_l2rp = epipolarLines(image1.copy(),image2.copy(),inliners_left,pts3,pts4)\n",
    "\n",
    "inliners_right =cv2.computeCorrespondEpilines(pts4.reshape(-1,1,2),2,fundamentalMatrix)\n",
    "inliners_right = inliners_right.reshape(-1,3)\n",
    "image_r2l,image_r2lp = epipolarLines(image2.copy(),image1.copy(),inliners_right,pts3,pts4)\n",
    "\n",
    "\n",
    "\n",
    "#==============================================part4========================================================================\n",
    "\n",
    "depthMap = cv2.StereoBM_create(numDisparities=64, blockSize=21)\n",
    "\n",
    "#depthMap = cv2.createStereoBM(numDisparities=64, blockSize=21)\n",
    "__disparityMap = depthMap.compute(image3,image4)\n",
    "\n",
    "\n",
    "\n",
    "\n",
    "\n",
    "\n",
    "\n"
   ]
  },
  {
   "cell_type": "code",
   "execution_count": null,
   "metadata": {},
   "outputs": [],
   "source": []
  },
  {
   "cell_type": "code",
   "execution_count": 12,
   "metadata": {
    "scrolled": true
   },
   "outputs": [
    {
     "data": {
      "image/png": "[encoded data removed]",
      "text/plain": [
       "<Figure size 432x288 with 1 Axes>"
      ]
     },
     "metadata": {},
     "output_type": "display_data"
    }
   ],
   "source": [
    "cv2.imshow('keypoint1',detect_image1)\n",
    "cv2.waitKey(0)\n",
    "cv2.imshow('keypoints2',detect_image2)\n",
    "cv2.waitKey(0)\n",
    "cv2.imshow('Feature Matching',featureMacthing)\n",
    "cv2.waitKey(0)\n",
    "\n",
    "cv2.imshow('epipolarLines from Left to right',image_l2r)\n",
    "cv2.waitKey(0)\n",
    "cv2.imshow('epipolar points from left to right',image_l2rp)\n",
    "cv2.waitKey(0)\n",
    "cv2.imshow('epipolarlines from right to left',image_r2l)\n",
    "cv2.waitKey(0)\n",
    "cv2.imshow('epipolar points from right to left',image_r2lp)\n",
    "cv2.waitKey(0)\n",
    "plt.imshow(__disparityMap,'gray')\n",
    "cv2.destroyAllWindows()\n",
    "#print(fundamental)"
   ]
  },
  {
   "cell_type": "code",
   "execution_count": 13,
   "metadata": {},
   "outputs": [
    {
     "data": {
      "text/plain": [
       "True"
      ]
     },
     "execution_count": 13,
     "metadata": {},
     "output_type": "execute_result"
    }
   ],
   "source": [
    "cv2.imwrite('task2_sift1.jpg',detect_image1)\n",
    "cv2.imwrite('task2_sift2.jpg',detect_image2)\n",
    "cv2.imwrite('task2_matches_knn.jpg',featureMacthing)\n",
    "cv2.imwrite('task2_epi_right.jpg',image_l2r)\n",
    "cv2.imwrite('task2_epi_left.jpg',image_r2l)\n",
    "cv2.imwrite('task2_disparity.jpg',__disparityMap)"
   ]
  },
  {
   "cell_type": "code",
   "execution_count": null,
   "metadata": {},
   "outputs": [],
   "source": []
  }
 ],
 "metadata": {
  "kernelspec": {
   "display_name": "Python 3",
   "language": "python",
   "name": "python3"
  },
  "language_info": {
   "codemirror_mode": {
    "name": "ipython",
    "version": 3
   },
   "file_extension": ".py",
   "mimetype": "text/x-python",
   "name": "python",
   "nbconvert_exporter": "python",
   "pygments_lexer": "ipython3",
   "version": "3.6.5"
  }
 },
 "nbformat": 4,
 "nbformat_minor": 2
}
