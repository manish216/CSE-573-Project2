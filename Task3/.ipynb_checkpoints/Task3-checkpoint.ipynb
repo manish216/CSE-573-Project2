{
 "cells": [
  {
   "cell_type": "code",
   "execution_count": 2,
   "metadata": {},
   "outputs": [],
   "source": [
    "import cv2\n",
    "import numpy as np\n",
    "import math\n",
    "import matplotlib.pyplot as plt"
   ]
  },
  {
   "cell_type": "code",
   "execution_count": 86,
   "metadata": {},
   "outputs": [],
   "source": [
    "def _clustering(a, b):\n",
    "    return np.linalg.norm(a - b, axis=1)"
   ]
  },
  {
   "cell_type": "code",
   "execution_count": 132,
   "metadata": {},
   "outputs": [
    {
     "name": "stdout",
     "output_type": "stream",
     "text": [
      "[0. 0. 2. 0. 1. 0. 0. 2. 0. 0.]\n",
      "cluster1 [[5.9 3.2]\n",
      " [4.6 2.9]\n",
      " [4.7 3.2]\n",
      " [5.  3. ]\n",
      " [4.9 3.1]\n",
      " [5.1 3.8]\n",
      " [6.  3. ]]\n",
      "cluster2 [[5.5 4.2]]\n",
      "cluster3 [[6.2 2.8]\n",
      " [6.7 3.1]]\n"
     ]
    },
    {
     "data": {
      "text/plain": [
       "<matplotlib.collections.PathCollection at 0x186f13b6358>"
      ]
     },
     "execution_count": 132,
     "metadata": {},
     "output_type": "execute_result"
    },
    {
     "data": {
      "image/png": "[encoded data removed]",
      "text/plain": [
       "<Figure size 432x288 with 1 Axes>"
      ]
     },
     "metadata": {},
     "output_type": "display_data"
    }
   ],
   "source": [
    "x_1 = [5.9,4.6,6.2,4.7,5.5,5.0,4.9,6.7,5.1,6.0]\n",
    "y_1 = [3.2,2.9,2.8,3.2,4.2,3.0,3.1,3.1,3.8,3.0]\n",
    "X = np.asarray(list(zip(x_1,y_1)))\n",
    "mu_x =[6.2,6.6,6.5]\n",
    "mu_y =[3.2,3.7,3.0]\n",
    "mu = np.asarray(list(zip(mu_x,mu_y)))\n",
    "new_mu = np.zeros(len(X))\n",
    "for i in range(len(X)):\n",
    "    new_samples = _clustering(X[i], mu)\n",
    "    c =  np.argmin(new_samples)\n",
    "    new_mu[i] = c\n",
    "print(new_mu)\n",
    "new_samples =[]\n",
    "new_x =[]\n",
    "colors = ['r', 'g', 'b']\n",
    "figure1, axis1 = plt.subplots()\n",
    "for k in range(3):\n",
    "    temp = np.array([X[i] for i in range(len(X)) if new_mu[i] == k])\n",
    "    new_x.append(temp)\n",
    "    print(\"cluster\" + str(k+1), temp )\n",
    "    axis1.scatter(temp[:,0], temp[:,1], marker='^', s=90,facecolor ='#FFFFFF' ,edgecolor=colors)\n",
    "axis1.scatter(mu[:,0], mu[:,1], marker='o', s=50, facecolor=colors)\n"
   ]
  },
  {
   "cell_type": "code",
   "execution_count": 164,
   "metadata": {
    "scrolled": true
   },
   "outputs": [
    {
     "name": "stdout",
     "output_type": "stream",
     "text": [
      "[5.1734375, 3.4234375]\n",
      "[5.34375, 4.69375]\n",
      "[6.029166666666666, 3.6958333333333333]\n",
      "newmu [[5.1734375  3.4234375 ]\n",
      " [5.34375    4.69375   ]\n",
      " [6.02916667 3.69583333]]\n"
     ]
    },
    {
     "data": {
      "image/png": "[encoded data removed]",
      "text/plain": [
       "<Figure size 432x288 with 1 Axes>"
      ]
     },
     "metadata": {},
     "output_type": "display_data"
    }
   ],
   "source": [
    "c1 =np.asarray(new_x[0])\n",
    "c2 =np.asarray(new_x[1])\n",
    "c3 =np.asarray(new_x[2])\n",
    "c1_xaxis =c1[:,0]\n",
    "c1_yaxis =c1[:,1]\n",
    "c2_xaxis =c2[:,0]\n",
    "c2_yaxis =c2[:,1]\n",
    "c3_xaxis =c3[:,0]\n",
    "c3_yaxis =c3[:,1]\n",
    "#========= Part2====================\n",
    "mu_1 = [(sum(c1_xaxis)+mu[0,0])/(len(c1_xaxis)+1),(sum(c1_yaxis)+mu[0,0])/(len(c1_yaxis)+1)]\n",
    "mu_2 = [(sum(c2_xaxis)+mu[0,0])/(len(c2_xaxis)+1),(sum(c2_yaxis)+mu[0,0])/(len(c2_yaxis)+1)]\n",
    "mu_3 = [(sum(c3_xaxis)+mu[0,0])/(len(c3_xaxis)+1),(sum(c3_yaxis)+mu[0,0])/(len(c3_yaxis)+1)]\n",
    "print(mu_1)\n",
    "print(mu_2)\n",
    "print(mu_3)\n",
    "mu_x1 =[mu_1[0],mu_2[0],mu_3[0]]\n",
    "mu_y1 =[mu_1[1],mu_2[1],mu_3[1]]\n",
    "NewMu = np.asarray(list(zip(mu_x1,mu_y1)))\n",
    "color =['r','b','g']\n",
    "plt.scatter(mu_x1, mu_y1, marker='o', s=50, c=color)\n",
    "print(\"newmu\",NewMu)\n"
   ]
  },
  {
   "cell_type": "code",
   "execution_count": 165,
   "metadata": {},
   "outputs": [
    {
     "name": "stdout",
     "output_type": "stream",
     "text": [
      "[2. 0. 2. 0. 1. 0. 0. 2. 0. 2.]\n",
      "cluster1 [[4.6 2.9]\n",
      " [4.7 3.2]\n",
      " [5.  3. ]\n",
      " [4.9 3.1]\n",
      " [5.1 3.8]]\n",
      "cluster2 [[5.5 4.2]]\n",
      "cluster3 [[5.9 3.2]\n",
      " [6.2 2.8]\n",
      " [6.7 3.1]\n",
      " [6.  3. ]]\n"
     ]
    },
    {
     "data": {
      "text/plain": [
       "<matplotlib.collections.PathCollection at 0x186f2b118d0>"
      ]
     },
     "execution_count": 165,
     "metadata": {},
     "output_type": "execute_result"
    },
    {
     "data": {
      "image/png": "[encoded data removed]",
      "text/plain": [
       "<Figure size 432x288 with 1 Axes>"
      ]
     },
     "metadata": {},
     "output_type": "display_data"
    }
   ],
   "source": [
    "#=========part3=====================\n",
    "for i in range(len(X)):\n",
    "    new_samples = _clustering(X[i], NewMu)\n",
    "    c =  np.argmin(new_samples)\n",
    "    new_mu[i] = c\n",
    "new_samples =[]\n",
    "new_x =[]\n",
    "colors = ['r', 'g', 'b']\n",
    "figure1, axis1 = plt.subplots()\n",
    "for k in range(3):\n",
    "    temp = np.array([X[i] for i in range(len(X)) if new_mu[i] == k])\n",
    "    new_x.append(temp)\n",
    "    print(\"cluster\" + str(k+1), temp )\n",
    "    axis1.scatter(temp[:,0], temp[:,1], marker='^', s=90,facecolor ='#FFFFFF' ,edgecolor=colors)\n",
    "axis1.scatter(mu[:,0], mu[:,1], marker='o', s=50, facecolor=colors)"
   ]
  }
 ],
 "metadata": {
  "kernelspec": {
   "display_name": "Python 3",
   "language": "python",
   "name": "python3"
  },
  "language_info": {
   "codemirror_mode": {
    "name": "ipython",
    "version": 3
   },
   "file_extension": ".py",
   "mimetype": "text/x-python",
   "name": "python",
   "nbconvert_exporter": "python",
   "pygments_lexer": "ipython3",
   "version": "3.6.5"
  }
 },
 "nbformat": 4,
 "nbformat_minor": 2
}
